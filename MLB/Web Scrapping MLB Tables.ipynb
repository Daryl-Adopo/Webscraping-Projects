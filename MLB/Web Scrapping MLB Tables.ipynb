{
 "cells": [
  {
   "cell_type": "code",
   "execution_count": 49,
   "metadata": {},
   "outputs": [],
   "source": [
    "# Required Packages\n",
    "try:\n",
    "    from bs4 import BeautifulSoup\n",
    "    import requests\n",
    "    import csv\n",
    "except ImportError:\n",
    "    %%capture\n",
    "    !pip install bs4\n",
    "    !pip install requests\n",
    "    from bs4 import BeautifulSoup\n",
    "    import requests\n",
    "    import csv"
   ]
  },
  {
   "cell_type": "code",
   "execution_count": 44,
   "metadata": {},
   "outputs": [],
   "source": [
    "url=\"https://www.spotrac.com/mlb/payroll/2021/positional\"\n",
    "\n",
    "# Make a GET request to fetch the raw HTML content\n",
    "html_content = requests.get(url).text\n",
    "\n",
    "# Parse the html content\n",
    "soup = BeautifulSoup(html_content, \"lxml\")\n",
    "# print(soup.prettify()) # print the parsed data of html"
   ]
  },
  {
   "cell_type": "markdown",
   "metadata": {},
   "source": [
    "### Find Table of interest on the webpage"
   ]
  },
  {
   "cell_type": "code",
   "execution_count": 45,
   "metadata": {},
   "outputs": [],
   "source": [
    "mlb_table = soup.find(\"table\", attrs={\"class\": \"datatable rtable captracker\"})\n",
    "\n",
    "mlb_table_header = mlb_table.thead.find_all(\"tr\") # Headers\n",
    "mlb_table_data = mlb_table.tbody.find_all(\"tr\")  # Rows"
   ]
  },
  {
   "cell_type": "markdown",
   "metadata": {},
   "source": [
    "### Extract Information from the Table"
   ]
  },
  {
   "cell_type": "code",
   "execution_count": 46,
   "metadata": {},
   "outputs": [
    {
     "name": "stdout",
     "output_type": "stream",
     "text": [
      "['Rank', 'Team', 'Win %', 'Roster', 'Catcher $', 'Infield $', 'Outfield $', 'DH $', 'Pitching $', 'Total Payroll']\n"
     ]
    }
   ],
   "source": [
    "# Get all the headings\n",
    "headings = []\n",
    "for th in mlb_table_header[0].find_all(\"th\"):\n",
    "    # remove any newlines and extra spaces from left and right\n",
    "    headings.append(th.text.replace('\\n', ' ').strip())\n",
    "\n",
    "print(headings)"
   ]
  },
  {
   "cell_type": "code",
   "execution_count": 47,
   "metadata": {},
   "outputs": [
    {
     "name": "stdout",
     "output_type": "stream",
     "text": [
      "[{'Rank': '1', 'Team': 'Los Angeles Dodgers', 'Win %': '0.654', 'Roster': '28', 'Catcher $': '$2,240,500', 'Infield $': '$48,175,134', 'Outfield $': '$56,600,000', 'DH $': '$426,313', 'Pitching $': '$67,219,595', 'Total Payroll': '$271,200,832'}, {'Rank': '2', 'Team': 'New York Yankees', 'Win %': '0.568', 'Roster': '30', 'Catcher $': '$7,253,767', 'Infield $': '$9,298,409', 'Outfield $': '$13,086,340', 'DH $': '$29,000,000', 'Pitching $': '$82,880,237', 'Total Payroll': '$205,669,863'}, {'Rank': '3', 'Team': 'New York Mets', 'Win %': '0.475', 'Roster': '28', 'Catcher $': '$8,364,690', 'Infield $': '$24,909,097', 'Outfield $': '$26,650,000', 'DH $': '-', 'Pitching $': '$94,641,967', 'Total Payroll': '$201,189,189'}, {'Rank': '4', 'Team': 'Houston Astros', 'Win %': '0.586', 'Roster': '28', 'Catcher $': '$7,000,000', 'Infield $': '$64,952,542', 'Outfield $': '$17,483,098', 'DH $': '$609,000', 'Pitching $': '$57,083,085', 'Total Payroll': '$194,472,041'}, {'Rank': '5', 'Team': 'Philadelphia Phillies', 'Win %': '0.506', 'Roster': '28', 'Catcher $': '$11,100,000', 'Infield $': '$32,884,784', 'Outfield $': '$58,900,651', 'DH $': '-', 'Pitching $': '$43,480,482', 'Total Payroll': '$189,852,734'}, {'Rank': '6', 'Team': 'Boston Red Sox', 'Win %': '0.568', 'Roster': '28', 'Catcher $': '$7,850,000', 'Infield $': '$30,709,494', 'Outfield $': '$6,833,371', 'DH $': '$19,350,000', 'Pitching $': '$77,659,234', 'Total Payroll': '$189,529,110'}, {'Rank': '7', 'Team': 'Los Angeles Angels', 'Win %': '0.475', 'Roster': '28', 'Catcher $': '$3,100,000', 'Infield $': '$4,087,196', 'Outfield $': '$1,452,479', 'DH $': '-', 'Pitching $': '$21,827,411', 'Total Payroll': '$180,349,558'}, {'Rank': '8', 'Team': 'San Diego Padres', 'Win %': '0.488', 'Roster': '28', 'Catcher $': '$1,499,355', 'Infield $': '$66,847,208', 'Outfield $': '$32,338,640', 'DH $': '-', 'Pitching $': '$25,292,381', 'Total Payroll': '$179,764,272'}, {'Rank': '9', 'Team': 'San Francisco Giants', 'Win %': '0.660', 'Roster': '28', 'Catcher $': '$24,202,777', 'Infield $': '$48,039,535', 'Outfield $': '$4,668,889', 'DH $': '-', 'Pitching $': '$57,475,595', 'Total Payroll': '$171,890,308'}, {'Rank': '10', 'Team': 'St. Louis Cardinals', 'Win %': '0.556', 'Roster': '28', 'Catcher $': '$9,579,200', 'Infield $': '$70,798,575', 'Outfield $': '$3,435,562', 'DH $': '-', 'Pitching $': '$52,205,223', 'Total Payroll': '$171,469,994'}, {'Rank': '11', 'Team': 'Atlanta Braves', 'Win %': '0.547', 'Roster': '28', 'Catcher $': '$8,285,231', 'Infield $': '$33,790,206', 'Outfield $': '$6,430,180', 'DH $': '$2,813,200', 'Pitching $': '$55,645,598', 'Total Payroll': '$153,112,625'}, {'Rank': '12', 'Team': 'Toronto Blue Jays', 'Win %': '0.562', 'Roster': '28', 'Catcher $': '$1,629,106', 'Infield $': '$20,539,414', 'Outfield $': '$40,476,975', 'DH $': '$4,325,000', 'Pitching $': '$41,432,254', 'Total Payroll': '$150,140,253'}, {'Rank': '13', 'Team': 'Chicago Cubs', 'Win %': '0.438', 'Roster': '28', 'Catcher $': '$12,268', 'Infield $': '$1,576,596', 'Outfield $': '$5,191,890', 'DH $': '-', 'Pitching $': '$27,130,135', 'Total Payroll': '$144,607,670'}, {'Rank': '14', 'Team': 'Washington Nationals', 'Win %': '0.401', 'Roster': '28', 'Catcher $': '$1,877,241', 'Infield $': '$8,859,122', 'Outfield $': '$10,436,455', 'DH $': '-', 'Pitching $': '$28,903,327', 'Total Payroll': '$144,390,775'}, {'Rank': '15', 'Team': 'Chicago White Sox', 'Win %': '0.574', 'Roster': '28', 'Catcher $': '$18,772,379', 'Infield $': '$33,697,088', 'Outfield $': '$10,195,500', 'DH $': '$4,333,333', 'Pitching $': '$58,831,069', 'Total Payroll': '$140,926,169'}, {'Rank': '16', 'Team': 'Cincinnati Reds', 'Win %': '0.512', 'Roster': '28', 'Catcher $': '$4,758,000', 'Infield $': '$37,684,784', 'Outfield $': '$14,572,645', 'DH $': '-', 'Pitching $': '$27,625,330', 'Total Payroll': '$125,902,769'}, {'Rank': '17', 'Team': 'Minnesota Twins', 'Win %': '0.451', 'Roster': '28', 'Catcher $': '$2,851,010', 'Infield $': '$47,849,178', 'Outfield $': '$12,523,066', 'DH $': '-', 'Pitching $': '$20,386,241', 'Total Payroll': '$118,783,551'}, {'Rank': '18', 'Team': 'Colorado Rockies', 'Win %': '0.460', 'Roster': '28', 'Catcher $': '$1,872,500', 'Infield $': '$23,107,675', 'Outfield $': '$24,196,173', 'DH $': '-', 'Pitching $': '$30,719,074', 'Total Payroll': '$116,408,966'}, {'Rank': '19', 'Team': 'Milwaukee Brewers', 'Win %': '0.586', 'Roster': '28', 'Catcher $': '$4,150,000', 'Infield $': '$7,851,693', 'Outfield $': '$47,722,318', 'DH $': '-', 'Pitching $': '$20,213,610', 'Total Payroll': '$99,377,415'}, {'Rank': '20', 'Team': 'Texas Rangers', 'Win %': '0.370', 'Roster': '28', 'Catcher $': '$1,158,000', 'Infield $': '$6,871,851', 'Outfield $': '$1,007,336', 'DH $': '$593,000', 'Pitching $': '$15,212,845', 'Total Payroll': '$95,636,948'}, {'Rank': '21', 'Team': 'Arizona Diamondbacks', 'Win %': '0.321', 'Roster': '28', 'Catcher $': '$1,700,000', 'Infield $': '$1,835,361', 'Outfield $': '$22,687,732', 'DH $': '-', 'Pitching $': '$26,606,785', 'Total Payroll': '$91,232,929'}, {'Rank': '22', 'Team': 'Oakland Athletics', 'Win %': '0.531', 'Roster': '28', 'Catcher $': '$2,672,270', 'Infield $': '$15,710,366', 'Outfield $': '$7,415,720', 'DH $': '$98,144', 'Pitching $': '$25,813,710', 'Total Payroll': '$90,900,598'}, {'Rank': '23', 'Team': 'Kansas City Royals', 'Win %': '0.457', 'Roster': '28', 'Catcher $': '$14,978,819', 'Infield $': '$14,948,813', 'Outfield $': '$13,381,881', 'DH $': '-', 'Pitching $': '$9,205,419', 'Total Payroll': '$86,565,788'}, {'Rank': '24', 'Team': 'Detroit Tigers', 'Win %': '0.475', 'Roster': '28', 'Catcher $': '$582,730', 'Infield $': '$11,048,483', 'Outfield $': '$6,361,865', 'DH $': '$30,000,000', 'Pitching $': '$13,415,075', 'Total Payroll': '$86,348,945'}, {'Rank': '25', 'Team': 'Seattle Mariners', 'Win %': '0.556', 'Roster': '28', 'Catcher $': '$1,635,270', 'Infield $': '$21,854,894', 'Outfield $': '$3,901,068', 'DH $': '$587,500', 'Pitching $': '$29,046,877', 'Total Payroll': '$83,837,448'}, {'Rank': '26', 'Team': 'Tampa Bay Rays', 'Win %': '0.617', 'Roster': '28', 'Catcher $': '$2,586,300', 'Infield $': '$8,104,801', 'Outfield $': '$16,232,266', 'DH $': '$5,693,516', 'Pitching $': '$11,671,768', 'Total Payroll': '$70,836,327'}, {'Rank': '27', 'Team': 'Miami Marlins', 'Win %': '0.414', 'Roster': '28', 'Catcher $': '$1,409,809', 'Infield $': '$5,872,316', 'Outfield $': '$1,212,438', 'DH $': '-', 'Pitching $': '$7,809,660', 'Total Payroll': '$58,157,900'}, {'Rank': '28', 'Team': 'Pittsburgh Pirates', 'Win %': '0.377', 'Roster': '28', 'Catcher $': '$1,891,500', 'Infield $': '$4,797,778', 'Outfield $': '$2,166,701', 'DH $': '-', 'Pitching $': '$7,716,862', 'Total Payroll': '$54,356,609'}, {'Rank': '29', 'Team': 'Cleveland Indians', 'Win %': '0.494', 'Roster': '28', 'Catcher $': '$8,780,000', 'Infield $': '$12,972,775', 'Outfield $': '$1,386,706', 'DH $': '$602,400', 'Pitching $': '$11,940,430', 'Total Payroll': '$50,220,534'}, {'Rank': '30', 'Team': 'Baltimore Orioles', 'Win %': '0.321', 'Roster': '28', 'Catcher $': '$2,235,978', 'Infield $': '$1,822,319', 'Outfield $': '$1,541,942', 'DH $': '$4,750,000', 'Pitching $': '$3,488,451', 'Total Payroll': '$42,421,870'}, {'Rank': '31', 'Team': 'Cleveland Guardians', 'Win %': '', 'Roster': '0', 'Catcher $': '$0', 'Infield $': '$0', 'Outfield $': '$0', 'DH $': '-', 'Pitching $': '$0', 'Total Payroll': '$450,000'}]\n"
     ]
    }
   ],
   "source": [
    "data = []\n",
    "for tr in mlb_table_data: # find all tr's from table's tbody\n",
    "    if tr.attrs:\n",
    "        if tr.attrs[\"class\"][0] == \"average\":\n",
    "            continue\n",
    "    row = {}\n",
    "    # Each row is stored in the form of\n",
    "    # row = {'Rank': '', 'Team': '',etc...}\n",
    "\n",
    "    # find all td's in tr and zip it with headings\n",
    "    for td, th in zip(tr.find_all(\"td\"), headings):\n",
    "        row[th] = td.text.replace('\\n', '').strip()\n",
    "    data.append(row)\n",
    "\n",
    "print(data)"
   ]
  },
  {
   "cell_type": "markdown",
   "metadata": {},
   "source": [
    "### Exporting Data to Excel"
   ]
  },
  {
   "cell_type": "code",
   "execution_count": 48,
   "metadata": {},
   "outputs": [],
   "source": [
    "with open(\"mlb_positional.csv\", 'w', newline = '') as out_file:\n",
    "    writer = csv.DictWriter(out_file, headings)\n",
    "    writer.writeheader()\n",
    "    writer.writerows(data)"
   ]
  },
  {
   "cell_type": "code",
   "execution_count": null,
   "metadata": {},
   "outputs": [],
   "source": []
  }
 ],
 "metadata": {
  "kernelspec": {
   "display_name": "Python 3",
   "language": "python",
   "name": "python3"
  },
  "language_info": {
   "codemirror_mode": {
    "name": "ipython",
    "version": 3
   },
   "file_extension": ".py",
   "mimetype": "text/x-python",
   "name": "python",
   "nbconvert_exporter": "python",
   "pygments_lexer": "ipython3",
   "version": "3.8.5"
  }
 },
 "nbformat": 4,
 "nbformat_minor": 4
}
