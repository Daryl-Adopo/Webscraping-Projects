{
 "cells": [
  {
   "cell_type": "code",
   "execution_count": 2,
   "metadata": {},
   "outputs": [],
   "source": [
    "# Required Packages\n",
    "try:\n",
    "    from bs4 import BeautifulSoup\n",
    "    import requests\n",
    "    import csv\n",
    "except ImportError:\n",
    "    %%capture\n",
    "    !pip install bs4\n",
    "    !pip install requests\n",
    "    from bs4 import BeautifulSoup\n",
    "    import requests\n",
    "    import csv"
   ]
  },
  {
   "cell_type": "code",
   "execution_count": 3,
   "metadata": {},
   "outputs": [],
   "source": [
    "url=\"https://www.spotrac.com/mlb/rankings/2021/salary/\"\n",
    "\n",
    "# Make a GET request to fetch the raw HTML content\n",
    "html_content = requests.get(url).text\n",
    "\n",
    "# Parse the html content\n",
    "soup = BeautifulSoup(html_content, \"lxml\")\n",
    "# print(soup.prettify()) # print the parsed data of html"
   ]
  },
  {
   "cell_type": "markdown",
   "metadata": {},
   "source": [
    "### List of Teams Url"
   ]
  },
  {
   "cell_type": "code",
   "execution_count": 21,
   "metadata": {},
   "outputs": [
    {
     "data": {
      "text/plain": [
       "['',\n",
       " 'arizona-diamondbacks',\n",
       " 'atlanta-braves',\n",
       " 'baltimore-orioles',\n",
       " 'boston-red-sox',\n",
       " 'chicago-cubs',\n",
       " 'chicago-white-sox',\n",
       " 'cincinnati-reds',\n",
       " 'cleveland-indians',\n",
       " 'colorado-rockies',\n",
       " 'detroit-tigers',\n",
       " 'houston-astros',\n",
       " 'kansas-city-royals',\n",
       " 'los-angeles-angels',\n",
       " 'los-angeles-dodgers',\n",
       " 'miami-marlins',\n",
       " 'milwaukee-brewers',\n",
       " 'minnesota-twins',\n",
       " 'new-york-mets',\n",
       " 'new-york-yankees',\n",
       " 'oakland-athletics',\n",
       " 'philadelphia-phillies',\n",
       " 'pittsburgh-pirates',\n",
       " 'san-diego-padres',\n",
       " 'san-francisco-giants',\n",
       " 'seattle-mariners',\n",
       " 'st-louis-cardinals',\n",
       " 'tampa-bay-rays',\n",
       " 'texas-rangers',\n",
       " 'toronto-blue-jays',\n",
       " 'washington-nationals']"
      ]
     },
     "execution_count": 21,
     "metadata": {},
     "output_type": "execute_result"
    }
   ],
   "source": [
    "mlb_teams = soup.find(\"select\", attrs={\"name\": \"teamUrl1\"})\n",
    "mlb_teams_data = mlb_teams.find_all('option')\n",
    "\n",
    "teams = []\n",
    "for option in mlb_teams_data:\n",
    "    teams.append(option.attrs['value'])\n",
    "    \n",
    "teams"
   ]
  },
  {
   "cell_type": "code",
   "execution_count": 24,
   "metadata": {},
   "outputs": [],
   "source": [
    "for team in teams:\n",
    "    url=f\"https://www.spotrac.com/mlb/rankings/2021/salary/{team}\"\n",
    "\n",
    "    # Make a GET request to fetch the raw HTML content\n",
    "    html_content = requests.get(url).text\n",
    "\n",
    "    # Parse the html content\n",
    "    soup = BeautifulSoup(html_content, \"lxml\")\n",
    "    # print(soup.prettify()) # print the parsed data of html\n",
    "    \n",
    "    # Find Table of interest on the webpage\n",
    "    mlb_table = soup.find(\"table\", attrs={\"class\": \"datatable noborder\"})\n",
    "\n",
    "    mlb_table_header = mlb_table.thead.find_all(\"tr\") # Headers\n",
    "    mlb_table_data = mlb_table.tbody.find_all(\"tr\")  # Rows\n",
    "    \n",
    "    # Extract Information from the Table\n",
    "    # Get all the headings\n",
    "    headings = []\n",
    "    for th in mlb_table_header[0].find_all(\"th\"):\n",
    "        # remove any newlines and extra spaces from left and right\n",
    "        headings.append(th.text.replace('\\n', ' ').strip())\n",
    "    \n",
    "    data = []\n",
    "    for tr in mlb_table_data: # find all tr's from table's tbody\n",
    "\n",
    "        row = {}\n",
    "        # Each row is stored in the form of\n",
    "        # row = {'Rank': '', 'Team': '',etc...}\n",
    "\n",
    "        # find all td's in tr and zip it with headings\n",
    "        for td, th in zip(tr.find_all(\"td\"), headings):\n",
    "            if td.attrs:\n",
    "                # Getting the player name only\n",
    "                if td.attrs['class'][0] == \"rank-name\":\n",
    "                    row[th] = td.find('h3').text.replace('\\n', '').strip()\n",
    "                    # Creating custom column for team code\n",
    "                    row['code'] = td.find('div', \"rank-position\").text.replace('\\n', '').strip()\n",
    "                    continue\n",
    "            row[th] = td.text.replace('\\n', '').strip()\n",
    "        data.append(row)\n",
    "\n",
    "    # Adding custom column to headings\n",
    "    headings.insert(3, 'code')\n",
    "    \n",
    "    # Exporting Table to Excel\n",
    "    with open(f\"mlb_player_salary_{team}.csv\", 'w', newline = '') as out_file:\n",
    "        writer = csv.DictWriter(out_file, headings)\n",
    "        writer.writeheader()\n",
    "        writer.writerows(data)"
   ]
  },
  {
   "cell_type": "code",
   "execution_count": null,
   "metadata": {},
   "outputs": [],
   "source": []
  }
 ],
 "metadata": {
  "kernelspec": {
   "display_name": "Python 3",
   "language": "python",
   "name": "python3"
  },
  "language_info": {
   "codemirror_mode": {
    "name": "ipython",
    "version": 3
   },
   "file_extension": ".py",
   "mimetype": "text/x-python",
   "name": "python",
   "nbconvert_exporter": "python",
   "pygments_lexer": "ipython3",
   "version": "3.8.5"
  }
 },
 "nbformat": 4,
 "nbformat_minor": 4
}
