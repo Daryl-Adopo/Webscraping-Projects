{
 "cells": [
  {
   "cell_type": "code",
   "execution_count": 2,
   "metadata": {},
   "outputs": [],
   "source": [
    "# Required Packages\n",
    "try:\n",
    "    from bs4 import BeautifulSoup\n",
    "    import requests\n",
    "    import csv\n",
    "except ImportError:\n",
    "    %%capture\n",
    "    !pip install bs4\n",
    "    !pip install requests\n",
    "    from bs4 import BeautifulSoup\n",
    "    import requests\n",
    "    import csv"
   ]
  },
  {
   "cell_type": "code",
   "execution_count": 3,
   "metadata": {},
   "outputs": [],
   "source": [
    "url=\"https://www.spotrac.com/mlb/rankings/2021/salary/\"\n",
    "\n",
    "# Make a GET request to fetch the raw HTML content\n",
    "html_content = requests.get(url).text\n",
    "\n",
    "# Parse the html content\n",
    "soup = BeautifulSoup(html_content, \"lxml\")\n",
    "# print(soup.prettify()) # print the parsed data of html"
   ]
  },
  {
   "cell_type": "markdown",
   "metadata": {},
   "source": [
    "### Find Table of interest on the webpage"
   ]
  },
  {
   "cell_type": "code",
   "execution_count": 4,
   "metadata": {},
   "outputs": [],
   "source": [
    "mlb_table = soup.find(\"table\", attrs={\"class\": \"datatable noborder\"})\n",
    "\n",
    "mlb_table_header = mlb_table.thead.find_all(\"tr\") # Headers\n",
    "mlb_table_data = mlb_table.tbody.find_all(\"tr\")  # Rows"
   ]
  },
  {
   "cell_type": "markdown",
   "metadata": {},
   "source": [
    "### Extract Information from the Table"
   ]
  },
  {
   "cell_type": "code",
   "execution_count": 37,
   "metadata": {},
   "outputs": [
    {
     "name": "stdout",
     "output_type": "stream",
     "text": [
      "['', 'Player', 'POS', 'Age', 'salary']\n"
     ]
    }
   ],
   "source": [
    "# Get all the headings\n",
    "headings = []\n",
    "for th in mlb_table_header[0].find_all(\"th\"):\n",
    "    # remove any newlines and extra spaces from left and right\n",
    "    headings.append(th.text.replace('\\n', ' ').strip())\n",
    "\n",
    "print(headings)"
   ]
  },
  {
   "cell_type": "code",
   "execution_count": 38,
   "metadata": {},
   "outputs": [
    {
     "name": "stdout",
     "output_type": "stream",
     "text": [
      "[{'': '1', 'Player': 'Mike Trout', 'code': 'LAA', 'POS': 'CF', 'Age': '29', 'salary': '$37,166,667'}, {'': '2', 'Player': 'Gerrit Cole', 'code': 'NYY', 'POS': 'SP', 'Age': '30', 'salary': '$36,000,000'}, {'': '', 'Player': 'Jacob deGrom', 'code': 'NYM', 'POS': 'SP', 'Age': '33', 'salary': '$36,000,000'}, {'': '4', 'Player': 'Nolan Arenado', 'code': 'STL', 'POS': '3B', 'Age': '30', 'salary': '$35,025,000'}, {'': '5', 'Player': 'Stephen Strasburg', 'code': 'WSH', 'POS': 'SP', 'Age': '32', 'salary': '$35,000,000'}, {'': '', 'Player': 'Zack Greinke', 'code': 'HOU', 'POS': 'SP', 'Age': '37', 'salary': '$35,000,000'}, {'': '7', 'Player': 'Max Scherzer', 'code': 'LAD', 'POS': 'SP', 'Age': '36', 'salary': '$34,603,480'}, {'': '8', 'Player': 'Justin Verlander', 'code': 'HOU', 'POS': 'SP', 'Age': '38', 'salary': '$33,000,000'}, {'': '9', 'Player': 'Manny Machado', 'code': 'SD', 'POS': '3B', 'Age': '28', 'salary': '$32,000,000'}, {'': '', 'Player': 'David Price', 'code': 'LAD', 'POS': 'SP', 'Age': '35', 'salary': '$32,000,000'}, {'': '11', 'Player': 'Trevor Bauer', 'code': 'LAD', 'POS': 'SP', 'Age': '30', 'salary': '$31,333,333'}, {'': '12', 'Player': 'Clayton Kershaw', 'code': 'LAD', 'POS': 'SP', 'Age': '33', 'salary': '$31,000,000'}, {'': '13', 'Player': 'Chris Sale', 'code': 'BOS', 'POS': 'SP', 'Age': '32', 'salary': '$30,000,000'}, {'': '', 'Player': 'Miguel Cabrera', 'code': 'DET', 'POS': 'DH', 'Age': '38', 'salary': '$30,000,000'}, {'': '15', 'Player': 'Giancarlo Stanton', 'code': 'NYY', 'POS': 'DH', 'Age': '31', 'salary': '$29,000,000'}, {'': '', 'Player': 'Jose Altuve', 'code': 'HOU', 'POS': '2B', 'Age': '31', 'salary': '$29,000,000'}, {'': '17', 'Player': 'Anthony Rendon', 'code': 'LAA', 'POS': '3B', 'Age': '31', 'salary': '$28,071,428'}, {'': '18', 'Player': 'Bryce Harper', 'code': 'PHI', 'POS': 'RF', 'Age': '28', 'salary': '$28,038,462'}, {'': '19', 'Player': 'Paul Goldschmidt', 'code': 'STL', 'POS': '1B', 'Age': '33', 'salary': '$26,000,000'}, {'': '20', 'Player': 'Joey Votto', 'code': 'CIN', 'POS': '1B', 'Age': '37', 'salary': '$25,000,000'}, {'': '21', 'Player': 'Patrick Corbin', 'code': 'WSH', 'POS': 'SP', 'Age': '31', 'salary': '$24,416,666'}, {'': '22', 'Player': 'George Springer', 'code': 'TOR', 'POS': 'CF', 'Age': '31', 'salary': '$23,666,666'}, {'': '23', 'Player': 'Jason Heyward', 'code': 'CHC', 'POS': 'RF', 'Age': '31', 'salary': '$23,500,000'}, {'': '24', 'Player': 'Justin Upton', 'code': 'LAA', 'POS': 'LF', 'Age': '33', 'salary': '$23,000,000'}, {'': '25', 'Player': 'Wil Myers', 'code': 'SD', 'POS': 'LF', 'Age': '30', 'salary': '$22,500,000'}, {'': '', 'Player': 'Mookie Betts', 'code': 'LAD', 'POS': 'RF', 'Age': '28', 'salary': '$22,500,000'}, {'': '', 'Player': 'Zack Wheeler', 'code': 'PHI', 'POS': 'SP', 'Age': '31', 'salary': '$22,500,000'}, {'': '28', 'Player': 'Freddie Freeman', 'code': 'ATL', 'POS': '1B', 'Age': '31', 'salary': '$22,409,375'}, {'': '29', 'Player': 'Francisco Lindor', 'code': 'NYM', 'POS': 'SS', 'Age': '27', 'salary': '$22,300,000'}, {'': '30', 'Player': 'Buster Posey', 'code': 'SF', 'POS': 'C', 'Age': '34', 'salary': '$22,202,777'}, {'': '31', 'Player': 'Yu Darvish', 'code': 'SD', 'POS': 'SP', 'Age': '34', 'salary': '$22,000,000'}, {'': '32', 'Player': 'Charlie Blackmon', 'code': 'COL', 'POS': 'RF', 'Age': '35', 'salary': '$21,333,333'}, {'': '33', 'Player': 'Josh Donaldson', 'code': 'MIN', 'POS': '3B', 'Age': '35', 'salary': '$21,000,000'}, {'': '', 'Player': 'Eric Hosmer', 'code': 'SD', 'POS': '1B', 'Age': '31', 'salary': '$21,000,000'}, {'': '', 'Player': 'Johnny Cueto', 'code': 'SF', 'POS': 'SP', 'Age': '35', 'salary': '$21,000,000'}, {'': '36', 'Player': 'Xander Bogaerts', 'code': 'BOS', 'POS': 'SS', 'Age': '28', 'salary': '$20,000,000'}, {'': '', 'Player': 'Hyun-Jin Ryu', 'code': 'TOR', 'POS': 'SP', 'Age': '34', 'salary': '$20,000,000'}, {'': '', 'Player': 'Kenley Jansen', 'code': 'LAD', 'POS': 'RP', 'Age': '33', 'salary': '$20,000,000'}, {'': '', 'Player': 'Andrew McCutchen', 'code': 'PHI', 'POS': 'LF', 'Age': '34', 'salary': '$20,000,000'}, {'': '', 'Player': 'J.T. Realmuto', 'code': 'PHI', 'POS': 'C', 'Age': '30', 'salary': '$20,000,000'}, {'': '41', 'Player': 'Kris Bryant', 'code': 'SF', 'POS': '3B', 'Age': '29', 'salary': '$19,500,000'}, {'': '42', 'Player': 'J.D. Martinez', 'code': 'BOS', 'POS': 'DH', 'Age': '33', 'salary': '$19,350,000'}, {'': '43', 'Player': 'Madison Bumgarner', 'code': 'ARI', 'POS': 'SP', 'Age': '31', 'salary': '$19,000,000'}, {'': '44', 'Player': 'Kevin Gausman', 'code': 'SF', 'POS': 'SP', 'Age': '30', 'salary': '$18,900,000'}, {'': '', 'Player': 'Marcus Stroman', 'code': 'NYM', 'POS': 'SP', 'Age': '30', 'salary': '$18,900,000'}, {'': '46', 'Player': 'Evan Longoria', 'code': 'SF', 'POS': '3B', 'Age': '35', 'salary': '$18,500,000'}, {'': '', 'Player': 'Trevor Story', 'code': 'COL', 'POS': 'SS', 'Age': '28', 'salary': '$18,500,000'}, {'': '', 'Player': 'Matt Carpenter', 'code': 'STL', 'POS': '3B', 'Age': '35', 'salary': '$18,500,000'}, {'': '', 'Player': 'Kyle Seager', 'code': 'SEA', 'POS': '3B', 'Age': '33', 'salary': '$18,500,000'}, {'': '50', 'Player': 'Yasmani Grandal', 'code': 'CHW', 'POS': 'C', 'Age': '32', 'salary': '$18,250,000'}, {'': '51', 'Player': 'Dallas Keuchel', 'code': 'CHW', 'POS': 'SP', 'Age': '33', 'salary': '$18,000,000'}, {'': '', 'Player': 'Marcus Semien', 'code': 'TOR', 'POS': 'SS', 'Age': '30', 'salary': '$18,000,000'}, {'': '', 'Player': 'A.J. Pollock', 'code': 'LAD', 'POS': 'LF', 'Age': '33', 'salary': '$18,000,000'}, {'': '54', 'Player': 'Jose Abreu', 'code': 'CHW', 'POS': '1B', 'Age': '34', 'salary': '$17,666,666'}, {'': '55', 'Player': 'Brandon Belt', 'code': 'SF', 'POS': '1B', 'Age': '33', 'salary': '$17,200,000'}, {'': '', 'Player': 'Aroldis Chapman', 'code': 'NYY', 'POS': 'RP/CL', 'Age': '33', 'salary': '$17,200,000'}, {'': '57', 'Player': 'Nathan Eovaldi', 'code': 'BOS', 'POS': 'SP', 'Age': '31', 'salary': '$17,000,000'}, {'': '58', 'Player': 'Miles Mikolas', 'code': 'STL', 'POS': 'SP', 'Age': '32', 'salary': '$16,750,000'}, {'': '59', 'Player': 'Dexter Fowler', 'code': 'LAA', 'POS': 'RF', 'Age': '35', 'salary': '$16,500,000'}, {'': '', 'Player': 'Anthony Rizzo', 'code': 'NYY', 'POS': '1B', 'Age': '31', 'salary': '$16,500,000'}, {'': '', 'Player': 'Yusei Kikuchi', 'code': 'SEA', 'POS': 'SP', 'Age': '30', 'salary': '$16,500,000'}, {'': '62', 'Player': 'Cody Bellinger', 'code': 'LAD', 'POS': 'CF', 'Age': '25', 'salary': '$16,100,000'}, {'': '63', 'Player': 'Lorenzo Cain', 'code': 'MIL', 'POS': 'CF', 'Age': '35', 'salary': '$16,000,000'}, {'': '', 'Player': 'Marcell Ozuna', 'code': 'ATL', 'POS': 'LF', 'Age': '30', 'salary': '$16,000,000'}, {'': '', 'Player': 'Michael Brantley', 'code': 'HOU', 'POS': 'LF', 'Age': '34', 'salary': '$16,000,000'}, {'': '', 'Player': 'Craig Kimbrel', 'code': 'CHW', 'POS': 'RP', 'Age': '33', 'salary': '$16,000,000'}, {'': '67', 'Player': 'Danny Duffy', 'code': 'LAD', 'POS': 'SP', 'Age': '32', 'salary': '$15,500,000'}, {'': '68', 'Player': 'Brandon Crawford', 'code': 'SF', 'POS': 'SS', 'Age': '34', 'salary': '$15,200,000'}, {'': '69', 'Player': 'Alex Cobb', 'code': 'LAA', 'POS': 'SP', 'Age': '33', 'salary': '$15,000,000'}, {'': '', 'Player': 'Charlie Morton', 'code': 'ATL', 'POS': 'SP', 'Age': '37', 'salary': '$15,000,000'}, {'': '', 'Player': 'D.J. LeMahieu', 'code': 'NYY', 'POS': '2B', 'Age': '32', 'salary': '$15,000,000'}, {'': '72', 'Player': 'Jean Segura', 'code': 'PHI', 'POS': 'SS', 'Age': '31', 'salary': '$14,850,000'}, {'': '73', 'Player': 'Salvador Perez', 'code': 'KC', 'POS': 'C', 'Age': '31', 'salary': '$14,200,000'}, {'': '74', 'Player': 'Nick Castellanos', 'code': 'CIN', 'POS': 'RF', 'Age': '29', 'salary': '$14,075,000'}, {'': '75', 'Player': 'Christian Yelich', 'code': 'MIL', 'POS': 'LF', 'Age': '29', 'salary': '$14,000,000'}, {'': '', 'Player': 'Mike Moustakas', 'code': 'CIN', 'POS': '2B', 'Age': '32', 'salary': '$14,000,000'}, {'': '', 'Player': 'Kyle Hendricks', 'code': 'CHC', 'POS': 'SP', 'Age': '31', 'salary': '$14,000,000'}, {'': '78', 'Player': 'Corey Seager', 'code': 'LAD', 'POS': 'SS', 'Age': '27', 'salary': '$13,750,000'}, {'': '79', 'Player': 'Trea Turner', 'code': 'LAD', 'POS': 'SS', 'Age': '28', 'salary': '$13,000,000'}, {'': '', 'Player': 'Nelson Cruz', 'code': 'TB', 'POS': 'DH', 'Age': '40', 'salary': '$13,000,000'}, {'': '', 'Player': 'Will Smith', 'code': 'ATL', 'POS': 'RP/CL', 'Age': '31', 'salary': '$13,000,000'}, {'': '', 'Player': 'Zack Britton', 'code': 'NYY', 'POS': 'RP', 'Age': '33', 'salary': '$13,000,000'}, {'': '83', 'Player': 'Didi Gregorius', 'code': 'PHI', 'POS': 'SS', 'Age': '31', 'salary': '$12,750,000'}, {'': '84', 'Player': 'Alex Bregman', 'code': 'HOU', 'POS': '3B', 'Age': '27', 'salary': '$12,666,666'}, {'': '85', 'Player': 'Starling Marte', 'code': 'OAK', 'POS': 'CF', 'Age': '32', 'salary': '$12,500,000'}, {'': '86', 'Player': 'Rougned Odor', 'code': 'NYY', 'POS': '2B', 'Age': '27', 'salary': '$12,333,333'}, {'': '87', 'Player': 'Aaron Nola', 'code': 'PHI', 'POS': 'SP', 'Age': '28', 'salary': '$12,250,000'}, {'': '', 'Player': 'Michael Conforto', 'code': 'NYM', 'POS': 'RF', 'Age': '28', 'salary': '$12,250,000'}, {'': '89', 'Player': 'Justin Turner', 'code': 'LAD', 'POS': '3B', 'Age': '36', 'salary': '$12,000,000'}, {'': '', 'Player': 'Andrew Miller', 'code': 'STL', 'POS': 'RP', 'Age': '36', 'salary': '$12,000,000'}, {'': '', 'Player': 'Carlos Carrasco', 'code': 'NYM', 'POS': 'SP', 'Age': '34', 'salary': '$12,000,000'}, {'': '92', 'Player': 'Carlos Martinez', 'code': 'STL', 'POS': 'SP', 'Age': '29', 'salary': '$11,700,000'}, {'': '', 'Player': 'Carlos Correa', 'code': 'HOU', 'POS': 'SS', 'Age': '26', 'salary': '$11,700,000'}, {'': '94', 'Player': 'Jeurys Familia', 'code': 'NYM', 'POS': 'RP', 'Age': '31', 'salary': '$11,666,668'}, {'': '95', 'Player': 'Kevin Kiermaier', 'code': 'TB', 'POS': 'CF', 'Age': '31', 'salary': '$11,666,666'}, {'': '96', 'Player': 'Javier Baez', 'code': 'NYM', 'POS': 'SS', 'Age': '28', 'salary': '$11,650,000'}, {'': '97', 'Player': 'Kyle Gibson', 'code': 'PHI', 'POS': 'SP', 'Age': '33', 'salary': '$11,500,000'}, {'': '98', 'Player': 'Liam Hendriks', 'code': 'CHW', 'POS': 'RP/CL', 'Age': '32', 'salary': '$11,333,333'}, {'': '99', 'Player': 'Blake Snell', 'code': 'SD', 'POS': 'SP', 'Age': '28', 'salary': '$11,100,000'}, {'': '100', 'Player': 'Miguel Sano', 'code': 'MIN', 'POS': '1B', 'Age': '28', 'salary': '$11,000,000'}]\n"
     ]
    }
   ],
   "source": [
    "data = []\n",
    "for tr in mlb_table_data: # find all tr's from table's tbody\n",
    "    \n",
    "    row = {}\n",
    "    # Each row is stored in the form of\n",
    "    # row = {'Rank': '', 'Team': '',etc...}\n",
    "\n",
    "    # find all td's in tr and zip it with headings\n",
    "    for td, th in zip(tr.find_all(\"td\"), headings):\n",
    "        if td.attrs:\n",
    "            # Getting the player name only\n",
    "            if td.attrs['class'][0] == \"rank-name\":\n",
    "                row[th] = td.find('h3').text.replace('\\n', '').strip()\n",
    "                # Creating custom column for team code\n",
    "                row['code'] = td.find('div', \"rank-position\").text.replace('\\n', '').strip()\n",
    "                continue\n",
    "        row[th] = td.text.replace('\\n', '').strip()\n",
    "    data.append(row)\n",
    "    \n",
    "# Adding custom column to headings\n",
    "headings.insert(3, 'code')\n",
    "print(data)"
   ]
  },
  {
   "cell_type": "markdown",
   "metadata": {},
   "source": [
    "### Exporting Data to Excel"
   ]
  },
  {
   "cell_type": "code",
   "execution_count": 39,
   "metadata": {},
   "outputs": [],
   "source": [
    "with open(\"mlb_top_players.csv\", 'w', newline = '') as out_file:\n",
    "    writer = csv.DictWriter(out_file, headings)\n",
    "    writer.writeheader()\n",
    "    writer.writerows(data)"
   ]
  },
  {
   "cell_type": "code",
   "execution_count": null,
   "metadata": {},
   "outputs": [],
   "source": []
  }
 ],
 "metadata": {
  "kernelspec": {
   "display_name": "Python 3",
   "language": "python",
   "name": "python3"
  },
  "language_info": {
   "codemirror_mode": {
    "name": "ipython",
    "version": 3
   },
   "file_extension": ".py",
   "mimetype": "text/x-python",
   "name": "python",
   "nbconvert_exporter": "python",
   "pygments_lexer": "ipython3",
   "version": "3.8.5"
  }
 },
 "nbformat": 4,
 "nbformat_minor": 4
}
