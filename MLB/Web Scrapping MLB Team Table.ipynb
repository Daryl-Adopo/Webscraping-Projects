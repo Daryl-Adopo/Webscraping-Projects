{
 "cells": [
  {
   "cell_type": "code",
   "execution_count": 7,
   "metadata": {},
   "outputs": [],
   "source": [
    "# Required Packages\n",
    "try:\n",
    "    from bs4 import BeautifulSoup\n",
    "    import requests\n",
    "    import csv\n",
    "except ImportError:\n",
    "    %%capture\n",
    "    !pip install bs4\n",
    "    !pip install requests\n",
    "    from bs4 import BeautifulSoup\n",
    "    import requests\n",
    "    import csv"
   ]
  },
  {
   "cell_type": "code",
   "execution_count": 34,
   "metadata": {},
   "outputs": [],
   "source": [
    "url=\"https://www.spotrac.com/mlb/payroll/2021\"\n",
    "\n",
    "# Make a GET request to fetch the raw HTML content\n",
    "html_content = requests.get(url).text\n",
    "\n",
    "# Parse the html content\n",
    "soup = BeautifulSoup(html_content, \"lxml\")\n",
    "# print(soup.prettify()) # print the parsed data of html"
   ]
  },
  {
   "cell_type": "markdown",
   "metadata": {},
   "source": [
    "### Find Table of interest on the webpage"
   ]
  },
  {
   "cell_type": "code",
   "execution_count": 35,
   "metadata": {},
   "outputs": [],
   "source": [
    "mlb_table = soup.find(\"table\", attrs={\"class\": \"datatable rtable captracker\"})\n",
    "\n",
    "mlb_table_header = mlb_table.thead.find_all(\"tr\") # Headers\n",
    "mlb_table_data = mlb_table.tbody.find_all(\"tr\")  # Rows"
   ]
  },
  {
   "cell_type": "markdown",
   "metadata": {},
   "source": [
    "### Extract Information from the Table"
   ]
  },
  {
   "cell_type": "code",
   "execution_count": 36,
   "metadata": {},
   "outputs": [
    {
     "name": "stdout",
     "output_type": "stream",
     "text": [
      "['Rank', 'Team', 'Win%', 'Roster', '26-Man Payroll', 'Injured Reserve', 'Retained', 'Buried', 'Suspended', '2021 Total Payroll']\n"
     ]
    }
   ],
   "source": [
    "# Get all the headings\n",
    "headings = []\n",
    "for th in mlb_table_header[0].find_all(\"th\"):\n",
    "    # remove any newlines and extra spaces from left and right\n",
    "    headings.append(th.text.replace('\\n', ' ').strip())\n",
    "\n",
    "print(headings)"
   ]
  },
  {
   "cell_type": "code",
   "execution_count": 37,
   "metadata": {},
   "outputs": [
    {
     "name": "stdout",
     "output_type": "stream",
     "text": [
      "[{'Rank': '1', 'Team': 'Los Angeles Dodgers', 'code': 'LAD', 'Win%': '0.654', 'Roster': '28', '26-Man Payroll': '$174,661,542', 'Injured Reserve': '$43,530,833', 'Retained': '$6,150,521', 'Buried': '$24,070,000', 'Suspended': '0-', '2021 Total Payroll': '$271,200,832'}, {'Rank': '2', 'Team': 'New York Yankees', 'code': 'NYY', 'Win%': '0.568', 'Roster': '30', '26-Man Payroll': '$141,518,753', 'Injured Reserve': '$48,217,362', 'Retained': '$12,129,712', 'Buried': '$13,040,875', 'Suspended': '0-', '2021 Total Payroll': '$205,669,863'}, {'Rank': '3', 'Team': 'New York Mets', 'code': 'NYM', 'Win%': '0.475', 'Roster': '28', '26-Man Payroll': '$154,565,754', 'Injured Reserve': '$33,933,570', 'Retained': '$9,524,946', 'Buried': '$12,006,000', 'Suspended': '0-', '2021 Total Payroll': '$201,189,189'}, {'Rank': '4', 'Team': 'Houston Astros', 'code': 'HOU', 'Win%': '0.586', 'Roster': '28', '26-Man Payroll': '$147,127,725', 'Injured Reserve': '$39,870,546', 'Retained': '$4,134,205', 'Buried': '$7,547,600', 'Suspended': '0-', '2021 Total Payroll': '$194,472,041'}, {'Rank': '5', 'Team': 'Philadelphia Phillies', 'code': 'PHI', 'Win%': '0.506', 'Roster': '28', '26-Man Payroll': '$146,365,917', 'Injured Reserve': '$19,936,225', 'Retained': '$17,791,556', 'Buried': '$10,533,500', 'Suspended': '0-', '2021 Total Payroll': '$189,852,734'}, {'Rank': '6', 'Team': 'Boston Red Sox', 'code': 'BOS', 'Win%': '0.568', 'Roster': '28', '26-Man Payroll': '$142,402,099', 'Injured Reserve': '$2,832,729', 'Retained': '$42,853,451', 'Buried': '$10,227,500', 'Suspended': '0-', '2021 Total Payroll': '$189,529,110'}, {'Rank': '7', 'Team': 'Los Angeles Angels', 'code': 'LAA', 'Win%': '0.475', 'Roster': '28', '26-Man Payroll': '$30,467,086', 'Injured Reserve': '$100,777,679', 'Retained': '$46,663,119', 'Buried': '$8,254,500', 'Suspended': '0-', '2021 Total Payroll': '$180,349,558'}, {'Rank': '8', 'Team': 'San Diego Padre', 'code': 'sSD', 'Win%': '0.488', 'Roster': '28', '26-Man Payroll': '$125,977,584', 'Injured Reserve': '$49,745,500', 'Retained': '$2,546,516', 'Buried': '$6,926,300', 'Suspended': '0-', '2021 Total Payroll': '$179,764,272'}, {'Rank': '9', 'Team': 'San Francisco Giant', 'code': 'sSF', 'Win%': '0.660', 'Roster': '28', '26-Man Payroll': '$134,386,796', 'Injured Reserve': '$19,766,740', 'Retained': '$12,958,219', 'Buried': '$16,549,200', 'Suspended': '0-', '2021 Total Payroll': '$171,890,308'}, {'Rank': '10', 'Team': 'St. Louis Cardinals', 'code': 'STL', 'Win%': '0.556', 'Roster': '28', '26-Man Payroll': '$136,018,560', 'Injured Reserve': '$14,512,682', 'Retained': '$19,759,129', 'Buried': '$5,171,100', 'Suspended': '0-', '2021 Total Payroll': '$171,469,994'}, {'Rank': '11', 'Team': 'Atlanta Braves', 'code': 'ATL', 'Win%': '0.547', 'Roster': '28', '26-Man Payroll': '$106,964,415', 'Injured Reserve': '$12,001,950', 'Retained': '$17,784,543', 'Buried': '$8,925,000', 'Suspended': '0-', '2021 Total Payroll': '$153,112,625'}, {'Rank': '12', 'Team': 'Toronto Blue Jays', 'code': 'TOR', 'Win%': '0.562', 'Roster': '28', '26-Man Payroll': '$108,402,749', 'Injured Reserve': '$8,853,529', 'Retained': '$28,315,121', 'Buried': '$9,968,100', 'Suspended': '0-', '2021 Total Payroll': '$150,140,253'}, {'Rank': '13', 'Team': 'Chicago Cubs', 'code': 'CHC', 'Win%': '0.438', 'Roster': '28', '26-Man Payroll': '$33,910,889', 'Injured Reserve': '$38,534,396', 'Retained': '$71,494,409', 'Buried': '$1,717,500', 'Suspended': '0-', '2021 Total Payroll': '$144,607,670'}, {'Rank': '14', 'Team': 'Washington Nationals', 'code': 'WSH', 'Win%': '0.401', 'Roster': '28', '26-Man Payroll': '$50,076,145', 'Injured Reserve': '$34,877,122', 'Retained': '$57,036,920', 'Buried': '$6,925,200', 'Suspended': '0-', '2021 Total Payroll': '$144,390,775'}, {'Rank': '15', 'Team': 'Chicago White Sox', 'code': 'CHW', 'Win%': '0.574', 'Roster': '28', '26-Man Payroll': '$125,829,369', 'Injured Reserve': '$3,193,240', 'Retained': '$10,099,143', 'Buried': '$5,997,000', 'Suspended': '0-', '2021 Total Payroll': '$140,926,169'}, {'Rank': '16', 'Team': 'Cincinnati Reds', 'code': 'CIN', 'Win%': '0.512', 'Roster': '28', '26-Man Payroll': '$84,640,759', 'Injured Reserve': '$35,531,500', 'Retained': '$4,226,409', 'Buried': '$5,156,000', 'Suspended': '0-', '2021 Total Payroll': '$125,902,769'}, {'Rank': '17', 'Team': 'Minnesota Twins', 'code': 'MIN', 'Win%': '0.451', 'Roster': '28', '26-Man Payroll': '$83,609,495', 'Injured Reserve': '$13,198,044', 'Retained': '$18,633,164', 'Buried': '$9,234,500', 'Suspended': '0-', '2021 Total Payroll': '$118,783,551'}, {'Rank': '18', 'Team': 'Colorado Rockies', 'code': 'COL', 'Win%': '0.460', 'Roster': '28', '26-Man Payroll': '$79,895,422', 'Injured Reserve': '$5,931,272', 'Retained': '$19,571,956', 'Buried': '$7,398,500', 'Suspended': '0-', '2021 Total Payroll': '$116,408,966'}, {'Rank': '19', 'Team': 'Milwaukee Brewers', 'code': 'MIL', 'Win%': '0.586', 'Roster': '28', '26-Man Payroll': '$79,937,621', 'Injured Reserve': '$3,109,474', 'Retained': '$10,266,654', 'Buried': '$12,221,766', 'Suspended': '0-', '2021 Total Payroll': '$99,377,415'}, {'Rank': '20', 'Team': 'Texas Rangers', 'code': 'TEX', 'Win%': '0.370', 'Roster': '28', '26-Man Payroll': '$24,843,032', 'Injured Reserve': '$7,899,375', 'Retained': '$58,764,829', 'Buried': '$9,453,000', 'Suspended': '0-', '2021 Total Payroll': '$95,636,948'}, {'Rank': '21', 'Team': 'Arizona Diamondbacks', 'code': 'ARI', 'Win%': '0.321', 'Roster': '28', '26-Man Payroll': '$52,829,878', 'Injured Reserve': '$9,694,478', 'Retained': '$25,868,212', 'Buried': '$8,056,000', 'Suspended': '0-', '2021 Total Payroll': '$91,232,929'}, {'Rank': '22', 'Team': 'Oakland Athletics', 'code': 'OAK', 'Win%': '0.531', 'Roster': '28', '26-Man Payroll': '$51,710,210', 'Injured Reserve': '$34,397,095', 'Retained': '$2,500,111', 'Buried': '$4,158,000', 'Suspended': '$580,500', '2021 Total Payroll': '$90,900,598'}, {'Rank': '23', 'Team': 'Kansas City Royal', 'code': 'sKC', 'Win%': '0.457', 'Roster': '28', '26-Man Payroll': '$52,514,932', 'Injured Reserve': '$15,758,956', 'Retained': '$16,711,027', 'Buried': '$5,147,900', 'Suspended': '0-', '2021 Total Payroll': '$86,565,788'}, {'Rank': '24', 'Team': 'Detroit Tigers', 'code': 'DET', 'Win%': '0.475', 'Roster': '28', '26-Man Payroll': '$61,408,153', 'Injured Reserve': '$13,503,703', 'Retained': '$8,352,752', 'Buried': '$4,374,100', 'Suspended': '0-', '2021 Total Payroll': '$86,348,945'}, {'Rank': '25', 'Team': 'Seattle Mariners', 'code': 'SEA', 'Win%': '0.556', 'Roster': '28', '26-Man Payroll': '$57,025,609', 'Injured Reserve': '$16,037,933', 'Retained': '$8,004,079', 'Buried': '$8,276,000', 'Suspended': '$570,500', '2021 Total Payroll': '$83,837,448'}, {'Rank': '26', 'Team': 'Tampa Bay Ray', 'code': 'sTB', 'Win%': '0.617', 'Roster': '28', '26-Man Payroll': '$44,288,651', 'Injured Reserve': '$18,352,159', 'Retained': '$6,218,025', 'Buried': '$7,136,100', 'Suspended': '0-', '2021 Total Payroll': '$70,836,327'}, {'Rank': '27', 'Team': 'Miami Marlins', 'code': 'MIA', 'Win%': '0.414', 'Roster': '28', '26-Man Payroll': '$16,304,223', 'Injured Reserve': '$15,489,077', 'Retained': '$23,940,904', 'Buried': '$9,320,500', 'Suspended': '0-', '2021 Total Payroll': '$58,157,900'}, {'Rank': '28', 'Team': 'Pittsburgh Pirates', 'code': 'PIT', 'Win%': '0.377', 'Roster': '28', '26-Man Payroll': '$16,572,841', 'Injured Reserve': '$7,847,255', 'Retained': '$19,989,602', 'Buried': '$7,368,500', 'Suspended': '$7,750,000', '2021 Total Payroll': '$54,356,609'}, {'Rank': '29', 'Team': 'Cleveland Indians', 'code': 'CLE', 'Win%': '0.494', 'Roster': '28', '26-Man Payroll': '$35,682,311', 'Injured Reserve': '$1,367,760', 'Retained': '$11,423,544', 'Buried': '$5,174,000', 'Suspended': '0-', '2021 Total Payroll': '$50,220,534'}, {'Rank': '30', 'Team': 'Baltimore Orioles', 'code': 'BAL', 'Win%': '0.321', 'Roster': '28', '26-Man Payroll': '$13,838,690', 'Injured Reserve': '$7,682,535', 'Retained': '$30,378,953', 'Buried': '$5,737,200', 'Suspended': '0-', '2021 Total Payroll': '$42,421,870'}, {'Rank': '31', 'Team': 'Cleveland Guardians', 'code': 'CLE', 'Win%': '', 'Roster': '0', '26-Man Payroll': '0-', 'Injured Reserve': '0-', 'Retained': '$450,000', 'Buried': '0-', 'Suspended': '0-', '2021 Total Payroll': '$450,000'}]\n"
     ]
    }
   ],
   "source": [
    "data = []\n",
    "for tr in mlb_table_data: # find all tr's from table's tbody\n",
    "    if tr.attrs:\n",
    "        if tr.attrs[\"class\"][0] == \"average\":\n",
    "            continue\n",
    "    row = {}\n",
    "    # Each row is stored in the form of\n",
    "    # row = {'Rank': '', 'Team': '',etc...}\n",
    "\n",
    "    # find all td's in tr and zip it with headings\n",
    "    for td, th in zip(tr.find_all(\"td\"), headings):\n",
    "        row[th] = td.text.replace('\\n', '').strip()\n",
    "        # Creating custom column for team code\n",
    "        if th == 'Team':\n",
    "            row['code'] = row[th][-3:]\n",
    "            row[th] = row[th][:-3]\n",
    "    data.append(row)\n",
    "    \n",
    "# Adding custom column to headings\n",
    "headings.insert(2, 'code')\n",
    "print(data)"
   ]
  },
  {
   "cell_type": "markdown",
   "metadata": {},
   "source": [
    "### Exporting Data to Excel"
   ]
  },
  {
   "cell_type": "code",
   "execution_count": 38,
   "metadata": {},
   "outputs": [],
   "source": [
    "with open(\"mlb.csv\", 'w', newline = '') as out_file:\n",
    "    writer = csv.DictWriter(out_file, headings)\n",
    "    writer.writeheader()\n",
    "    writer.writerows(data)"
   ]
  },
  {
   "cell_type": "code",
   "execution_count": null,
   "metadata": {},
   "outputs": [],
   "source": []
  }
 ],
 "metadata": {
  "kernelspec": {
   "display_name": "Python 3",
   "language": "python",
   "name": "python3"
  },
  "language_info": {
   "codemirror_mode": {
    "name": "ipython",
    "version": 3
   },
   "file_extension": ".py",
   "mimetype": "text/x-python",
   "name": "python",
   "nbconvert_exporter": "python",
   "pygments_lexer": "ipython3",
   "version": "3.8.5"
  }
 },
 "nbformat": 4,
 "nbformat_minor": 4
}
